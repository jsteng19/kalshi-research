{
 "cells": [
  {
   "cell_type": "code",
   "execution_count": 8,
   "metadata": {},
   "outputs": [],
   "source": [
    "import sys\n",
    "from datetime import datetime\n",
    "sys.path.append('..')\n",
    "import os\n",
    "os.chdir('..')\n",
    "\n",
    "from src.speech_scraper import TrumpSpeechScraper\n",
    "from src.process_transcripts import process_all_transcripts\n",
    "\n",
    "scraper = TrumpSpeechScraper(url=\"https://rollcall.com/factbase/\", save_path=\"data/transcript-urls/transcript_urls20.txt\")\n"
   ]
  },
  {
   "cell_type": "code",
   "execution_count": 9,
   "metadata": {},
   "outputs": [
    {
     "name": "stdout",
     "output_type": "stream",
     "text": [
      "Starting URL collection...\n",
      "Will only collect transcripts after July 12, 2025\n",
      "Setting up Chrome WebDriver...\n",
      "Attempting to use ChromeDriverManager...\n",
      "Initializing Chrome WebDriver (attempt 1/3)...\n",
      "Loading URL: https://rollcall.com/factbase/\n",
      "Initialization attempt 1 failed: Message: timeout: Timed out receiving message from renderer: 59.461\n",
      "  (Session info: chrome=138.0.7204.169)\n",
      "Stacktrace:\n",
      "0   chromedriver                        0x00000001053b4b38 cxxbridge1$str$ptr + 2722088\n",
      "1   chromedriver                        0x00000001053acaa8 cxxbridge1$str$ptr + 2689176\n",
      "2   chromedriver                        0x0000000104efe33c cxxbridge1$string$len + 90648\n",
      "3   chromedriver                        0x0000000104ee9150 cxxbridge1$string$len + 4140\n",
      "4   chromedriver                        0x0000000104ee8ec8 cxxbridge1$string$len + 3492\n",
      "5   chromedriver                        0x0000000104ee6c80 chromedriver + 191616\n",
      "6   chromedriver                        0x0000000104ee7810 chromedriver + 194576\n",
      "7   chromedriver                        0x0000000104ef4a40 cxxbridge1$string$len + 51484\n",
      "8   chromedriver                        0x0000000104f0a958 cxxbridge1$string$len + 141364\n",
      "9   chromedriver                        0x0000000104ee7e6c chromedriver + 196204\n",
      "10  chromedriver                        0x0000000104f0a760 cxxbridge1$string$len + 140860\n",
      "11  chromedriver                        0x0000000104f86b3c cxxbridge1$string$len + 649752\n",
      "12  chromedriver                        0x0000000104f39784 cxxbridge1$string$len + 333408\n",
      "13  chromedriver                        0x0000000105377eb4 cxxbridge1$str$ptr + 2473124\n",
      "14  chromedriver                        0x000000010537b120 cxxbridge1$str$ptr + 2486032\n",
      "15  chromedriver                        0x00000001053596b4 cxxbridge1$str$ptr + 2348196\n",
      "16  chromedriver                        0x000000010537b9dc cxxbridge1$str$ptr + 2488268\n",
      "17  chromedriver                        0x000000010534a730 cxxbridge1$str$ptr + 2286880\n",
      "18  chromedriver                        0x000000010539b5f8 cxxbridge1$str$ptr + 2618344\n",
      "19  chromedriver                        0x000000010539b784 cxxbridge1$str$ptr + 2618740\n",
      "20  chromedriver                        0x00000001053ac6e4 cxxbridge1$str$ptr + 2688212\n",
      "21  libsystem_pthread.dylib             0x000000019ff76c0c _pthread_start + 136\n",
      "22  libsystem_pthread.dylib             0x000000019ff71b80 thread_start + 8\n",
      "\n",
      "Retrying initialization...\n",
      "Initializing Chrome WebDriver (attempt 2/3)...\n",
      "Loading URL: https://rollcall.com/factbase/\n",
      "Page title: Factbase search - Roll Call\n",
      "Waiting for content to load...\n",
      "Content element not found: Message: \n",
      "Stacktrace:\n",
      "0   chromedriver                        0x00000001050dcb38 cxxbridge1$str$ptr + 2722088\n",
      "1   chromedriver                        0x00000001050d4aa8 cxxbridge1$str$ptr + 2689176\n",
      "2   chromedriver                        0x0000000104c2633c cxxbridge1$string$len + 90648\n",
      "3   chromedriver                        0x0000000104c6d494 cxxbridge1$string$len + 381808\n",
      "4   chromedriver                        0x0000000104cae880 cxxbridge1$string$len + 649052\n",
      "5   chromedriver                        0x0000000104c61784 cxxbridge1$string$len + 333408\n",
      "6   chromedriver                        0x000000010509feb4 cxxbridge1$str$ptr + 2473124\n",
      "7   chromedriver                        0x00000001050a3120 cxxbridge1$str$ptr + 2486032\n",
      "8   chromedriver                        0x00000001050816b4 cxxbridge1$str$ptr + 2348196\n",
      "9   chromedriver                        0x00000001050a39dc cxxbridge1$str$ptr + 2488268\n",
      "10  chromedriver                        0x0000000105072730 cxxbridge1$str$ptr + 2286880\n",
      "11  chromedriver                        0x00000001050c35f8 cxxbridge1$str$ptr + 2618344\n",
      "12  chromedriver                        0x00000001050c3784 cxxbridge1$str$ptr + 2618740\n",
      "13  chromedriver                        0x00000001050d46e4 cxxbridge1$str$ptr + 2688212\n",
      "14  libsystem_pthread.dylib             0x000000019ff76c0c _pthread_start + 136\n",
      "15  libsystem_pthread.dylib             0x000000019ff71b80 thread_start + 8\n",
      "\n",
      "Looking for alternative elements...\n",
      "Found 40 transcript links directly\n",
      "\n",
      "Checking page 1...\n",
      "Found 40 links with general selector\n",
      "Found 40 links with title 'View Transcript'\n",
      "Found 40 total transcripts on page\n",
      "Page date range: July 29, 2025 to July 14, 2025\n",
      "Found 39 new transcripts after July 12, 2025\n",
      "Scrolled window to bottom\n",
      "Detected content change or scroll position change\n",
      "\n",
      "Checking page 2...\n",
      "Found 80 links with general selector\n",
      "Found 80 links with title 'View Transcript'\n",
      "Found 80 total transcripts on page\n",
      "Page date range: July 29, 2025 to July 12, 2025\n",
      "Found 4 new transcripts after July 12, 2025\n",
      "Scrolled window to bottom\n",
      "Detected content change or scroll position change\n",
      "\n",
      "Checking page 3...\n",
      "Found 120 links with general selector\n",
      "Found 120 links with title 'View Transcript'\n",
      "Found 120 total transcripts on page\n",
      "Page date range: July 29, 2025 to July 12, 2025\n",
      "No new transcripts found. Attempt 1/3\n",
      "Scrolled window to bottom\n",
      "Detected content change or scroll position change\n",
      "\n",
      "Checking page 4...\n",
      "Found 160 links with general selector\n",
      "Found 160 links with title 'View Transcript'\n",
      "Found 160 total transcripts on page\n",
      "Page date range: July 29, 2025 to July 12, 2025\n",
      "No new transcripts found. Attempt 2/3\n",
      "Scrolled window to bottom\n",
      "Detected content change or scroll position change\n",
      "\n",
      "Checking page 5...\n",
      "Found 200 links with general selector\n",
      "Found 200 links with title 'View Transcript'\n",
      "Found 200 total transcripts on page\n",
      "Page date range: July 29, 2025 to July 12, 2025\n",
      "No new transcripts found. Attempt 3/3\n",
      "Scrolled window to bottom\n",
      "Detected content change or scroll position change\n",
      "\n",
      "Finished collecting URLs. Found 43 unique transcripts after July 12, 2025.\n",
      "Saved URLs to data/transcript-urls/transcript_urls20.txt\n",
      "WebDriver closed\n",
      "Collection complete. Found 43 transcript URLs.\n"
     ]
    }
   ],
   "source": [
    "\n",
    "    \n",
    "# Set target date to collect transcripts from\n",
    "target_date = datetime(2025, 7, 12)\n",
    "\n",
    "# Collect transcript URLs\n",
    "urls = scraper.collect_transcript_urls(target_date=target_date)\n",
    "\n",
    "print(f\"Collection complete. Found {len(urls)} transcript URLs.\")"
   ]
  },
  {
   "cell_type": "code",
   "execution_count": 13,
   "metadata": {},
   "outputs": [
    {
     "name": "stdout",
     "output_type": "stream",
     "text": [
      "Loaded 43 URLs from data/transcript-urls/transcript_urls20.txt\n"
     ]
    },
    {
     "name": "stderr",
     "output_type": "stream",
     "text": [
      "Processing transcripts: 100%|██████████| 43/43 [00:39<00:00,  1.09it/s]"
     ]
    },
    {
     "name": "stdout",
     "output_type": "stream",
     "text": [
      "\n",
      "Finished processing. Collected 43 speeches.\n"
     ]
    },
    {
     "name": "stderr",
     "output_type": "stream",
     "text": [
      "\n"
     ]
    }
   ],
   "source": [
    "scraper.process_transcripts(url_path=\"data/transcript-urls/transcript_urls20.txt\")"
   ]
  },
  {
   "cell_type": "code",
   "execution_count": 11,
   "metadata": {},
   "outputs": [],
   "source": [
    "process_all_transcripts()"
   ]
  },
  {
   "cell_type": "code",
   "execution_count": 12,
   "metadata": {},
   "outputs": [],
   "source": [
    "import glob\n",
    "\n",
    "# Get all transcript files\n",
    "transcript_files = glob.glob(\"data/processed-transcripts/*/*.txt\")\n",
    "\n",
    "# Check each file and delete if empty\n",
    "for file in transcript_files:\n",
    "    with open(file, 'r', encoding='utf-8') as f:\n",
    "        content = f.read().strip()\n",
    "        if not content:  # If file is empty or only whitespace\n",
    "            os.remove(file)\n",
    "            print(f\"Deleted empty file: {file}\")\n"
   ]
  }
 ],
 "metadata": {
  "kernelspec": {
   "display_name": "venv",
   "language": "python",
   "name": "python3"
  },
  "language_info": {
   "codemirror_mode": {
    "name": "ipython",
    "version": 3
   },
   "file_extension": ".py",
   "mimetype": "text/x-python",
   "name": "python",
   "nbconvert_exporter": "python",
   "pygments_lexer": "ipython3",
   "version": "3.13.3"
  }
 },
 "nbformat": 4,
 "nbformat_minor": 4
}
