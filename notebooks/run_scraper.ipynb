{
 "cells": [
  {
   "cell_type": "code",
   "execution_count": 1,
   "metadata": {},
   "outputs": [],
   "source": [
    "import sys\n",
    "from datetime import datetime\n",
    "sys.path.append('..')\n",
    "import os\n",
    "os.chdir('..')\n",
    "\n",
    "from src.speech_scraper import TrumpSpeechScraper\n",
    "from src.process_transcripts import process_all_transcripts, process_new_transcripts\n",
    "\n",
    "scraper = TrumpSpeechScraper(url=\"https://rollcall.com/factbase/\", save_path=\"data/transcript-urls/transcript_urls11.txt\")\n"
   ]
  },
  {
   "cell_type": "code",
   "execution_count": null,
   "metadata": {},
   "outputs": [],
   "source": [
    "\n",
    "    \n",
    "# Set target date to collect transcripts from\n",
    "target_date = datetime(2025, 4, 7)\n",
    "\n",
    "# Collect transcript URLs\n",
    "urls = scraper.collect_transcript_urls(target_date=target_date)\n",
    "\n",
    "print(f\"Collection complete. Found {len(urls)} transcript URLs.\")"
   ]
  },
  {
   "cell_type": "code",
   "execution_count": null,
   "metadata": {},
   "outputs": [],
   "source": [
    "scraper.process_transcripts(url_path=\"data/transcript-urls/transcript_urls11.txt\")"
   ]
  },
  {
   "cell_type": "code",
   "execution_count": null,
   "metadata": {},
   "outputs": [],
   "source": [
    "process_new_transcripts()"
   ]
  },
  {
   "cell_type": "code",
   "execution_count": null,
   "metadata": {},
   "outputs": [],
   "source": [
    "import glob\n",
    "\n",
    "# Get all transcript files\n",
    "transcript_files = glob.glob(\"data/processed-transcripts/*/*.txt\")\n",
    "\n",
    "# Check each file and delete if empty\n",
    "for file in transcript_files:\n",
    "    with open(file, 'r', encoding='utf-8') as f:\n",
    "        content = f.read().strip()\n",
    "        if not content:  # If file is empty or only whitespace\n",
    "            os.remove(file)\n",
    "            print(f\"Deleted empty file: {file}\")\n"
   ]
  }
 ],
 "metadata": {
  "kernelspec": {
   "display_name": "venv",
   "language": "python",
   "name": "python3"
  },
  "language_info": {
   "codemirror_mode": {
    "name": "ipython",
    "version": 3
   },
   "file_extension": ".py",
   "mimetype": "text/x-python",
   "name": "python",
   "nbconvert_exporter": "python",
   "pygments_lexer": "ipython3",
   "version": "3.11.9"
  }
 },
 "nbformat": 4,
 "nbformat_minor": 4
}
